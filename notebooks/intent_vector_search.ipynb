{
 "cells": [
  {
   "cell_type": "code",
   "execution_count": 3,
   "metadata": {},
   "outputs": [],
   "source": [
    "# Copyright 2024 Google LLC. This software is provided as-is, without warranty\n",
    "# or representation for any use or purpose. Your use of it is subject to your\n",
    "# agreement with Google."
   ]
  },
  {
   "cell_type": "code",
   "execution_count": 4,
   "metadata": {},
   "outputs": [
    {
     "name": "stdout",
     "output_type": "stream",
     "text": [
      "/Users/pnallamotu/Desktop/sme_chat\n"
     ]
    }
   ],
   "source": [
    "# Set to root directory.\n",
    "import os\n",
    "REPO_NAME = \"sme_chat\"\n",
    "if os.getcwd().split(\"/\")[-1] != REPO_NAME:\n",
    "    os.chdir(f\"../../{REPO_NAME}\")\n",
    "print(os.getcwd())"
   ]
  },
  {
   "cell_type": "markdown",
   "metadata": {},
   "source": [
    "This notebook is used to create a RAG based system to identify malicious or prompt hijack queries. \n",
    "The flow of this notebook is as follow: \n",
    "1. Create a spreadsheet of malicious or queries to block. \n",
    "2. Embed each query \n",
    "3. Create Vector Search Index from created embeddings. \n",
    "4. Deploy Vector Search Index to endpoint. "
   ]
  },
  {
   "cell_type": "markdown",
   "metadata": {},
   "source": [
    "# Setup"
   ]
  },
  {
   "cell_type": "code",
   "execution_count": 5,
   "metadata": {},
   "outputs": [],
   "source": [
    "from typing import Any, Dict, List, Optional\n",
    "\n",
    "from google.cloud import aiplatform\n",
    "import pandas as pd\n",
    "import vertexai\n",
    "from vertexai.preview.language_models import TextEmbeddingInput, TextEmbeddingModel"
   ]
  },
  {
   "cell_type": "markdown",
   "metadata": {},
   "source": [
    "## Constants"
   ]
  },
  {
   "cell_type": "code",
   "execution_count": 6,
   "metadata": {},
   "outputs": [],
   "source": [
    "PROJECT_ID = \"pnallamotu-test\"\n",
    "LOCATION = \"us-central1\""
   ]
  },
  {
   "cell_type": "code",
   "execution_count": 7,
   "metadata": {},
   "outputs": [],
   "source": [
    "# Init VertexAI & AI Platform.\n",
    "aiplatform.init(project=PROJECT_ID, location=LOCATION)\n",
    "vertexai.init(project=PROJECT_ID, location=LOCATION)"
   ]
  },
  {
   "cell_type": "markdown",
   "metadata": {},
   "source": [
    "# Read in Query Examples"
   ]
  },
  {
   "cell_type": "code",
   "execution_count": 8,
   "metadata": {},
   "outputs": [],
   "source": [
    "file_path = \"./notebooks/data/queries_to_block.csv\""
   ]
  },
  {
   "cell_type": "code",
   "execution_count": 9,
   "metadata": {},
   "outputs": [],
   "source": [
    "df = pd.read_csv(file_path)"
   ]
  },
  {
   "cell_type": "markdown",
   "metadata": {},
   "source": [
    "# Embed Queries"
   ]
  },
  {
   "cell_type": "code",
   "execution_count": 10,
   "metadata": {},
   "outputs": [],
   "source": [
    "def embed_text(\n",
    "    texts: List[str],\n",
    "    task: str = \"SEMANTIC_SIMILARITY\",\n",
    "    model_name: str = \"text-embedding-004\",\n",
    "    dimensionality: Optional[int] = 256,\n",
    "    batch_size: int = 5\n",
    "):\n",
    "    \"\"\"Embeds a list of texts.\n",
    "    Args:\n",
    "        texts: The list of texts to embed.\n",
    "        task: The task for which the embeddings will be used.\n",
    "        model_name: The name of the pre-trained text embedding model to use.\n",
    "        dimensionality: The desired dimensionality of the embeddings. If None, the\n",
    "            default dimensionality of the model is used.\n",
    "        batch_size: The batch size to use for embedding.\n",
    "\n",
    "    Returns:\n",
    "        A list of lists, where each inner list represents the emebddings of a text\n",
    "    \"\"\"\n",
    "    embeddings = []\n",
    "    model = TextEmbeddingModel.from_pretrained(model_name)\n",
    "    # for i in tqdm.tqdm(range(0, len(texts), batch_size)):\n",
    "    for i in range(0, len(texts), batch_size):\n",
    "        curr_batch = texts[i: i + batch_size]\n",
    "        inputs = [TextEmbeddingInput(text, task) for text in curr_batch]\n",
    "\n",
    "        kwargs = dict(output_dimensionality=dimensionality) if dimensionality else {}\n",
    "        result = model.get_embeddings(inputs, **kwargs)\n",
    "        embeddings = embeddings + [e.values for e in result]\n",
    "    return embeddings"
   ]
  },
  {
   "cell_type": "code",
   "execution_count": 11,
   "metadata": {},
   "outputs": [],
   "source": [
    "df = df.assign(embedding=embed_text(list(df[\"query\"])))"
   ]
  },
  {
   "cell_type": "markdown",
   "metadata": {},
   "source": [
    "## Upload Embeddings to GCS"
   ]
  },
  {
   "cell_type": "code",
   "execution_count": 13,
   "metadata": {},
   "outputs": [
    {
     "name": "stdout",
     "output_type": "stream",
     "text": [
      "{\"id\":1,\"embedding\":[-0.0086849649,-0.0094498051,-0.0533416085,-0.0002221287,0.0299373642,0.049645666,0.0555175021,0.0697580799,-0.030261362,0.0011084516,0.0011093153,0.0914345086,-0.0185045246,0.051989574,0.0369685479,-0.0233300049,0.0050664125,0.0399317779,-0.0454415418,-0.0127727892,-0.0037062413,0.0144868558,-0.0172112677,-0.0216604024,0.0073467297,-0.0209816415,0.04758735,-0.0788331628,-0.0013815438,-0.0493790321,0.0745011792,0.0109370556,-0.000250025,-0.0440187454,0.0360942744,0.0023019249,-0.0094008828,-0.0428107269,-0.0097443825,-0.0307801366,-0.0547727384,0.0452350192,-0.0724724382,-0.0042062104,-0.0056527611,-0.0193993393,-0.0267820824,-0.0378545672,0.0486142673,-0.0044723307,0.0180207212,-0.0553663746,-0.0323941596,-0.0369985588,0.025259627,-0.0332302973,-0.0537406392,0.007708489,0.0989010707,-0.0267123468,-0.0382067524,-0.0130893681,-0.024364382,-0.0171621852,0.0264381617,0.007582196,-0.041985333,-0.0094239591,0.0025440657,0.0653168112,0.0190015528,0.0419340581,-0.0117576085,0.0292225294,-0.000021888,-0.0362961069,-0.0172614921,0.000335995,-0.018506743,0.0743142962,-0.0012721701,-0.0051559997,0.0700093508,0.0532262698,0.0244041588,-0.0136434659,0.0125355842,-0.0225763321,-0.084308356,-0.0312467497,0.0330567546,-0.0232683904,-0.0333173014,0.0067803864,0.0882430077,0.0540611483,-0.0337766558,0.0278915055,-0.0395535976,-0.0182116814,0.02533371,0.009610218,-0.0439768136,0.0172779094,-0.0050440272,-0.0286220945,-0.0280178916,-0.0035186002,0.0328484401,0.0700835362,-0.0084362477,-0.0310041811,0.0248758234,0.02396404,-0.0184887983,-0.0421411656,0.0378390178,0.0296226945,-0.0198914334,-0.0418067612,-0.0137248542,0.0215052478,-0.0301405042,0.0671093538,0.0570517629,0.0940818787,0.0528785773,0.0338824801,-0.0327678248,-0.0678025559,0.0797462687,-0.0209924951,-0.0284028109,0.0434003882,-0.0373256728,-0.0190182365,-0.0220162906,-0.0065510119,-0.0274304654,0.0069737285,0.0034116779,0.0128219491,-0.0346671343,0.0346146636,0.0476459116,0.0155331986,0.0747247413,0.0602092892,0.004016629,0.0184091646,-0.0978963226,-0.0362799615,0.0041649463,0.0139380964,-0.022673266,0.0175817274,-0.0023183774,0.0039979396,0.0256142486,-0.0170884635,-0.0601846538,-0.1162075102,-0.0695376024,-0.0095306076,-0.0554600917,-0.0476750024,-0.020747127,-0.0921794325,0.0254566148,0.0084768999,0.0279591382,0.0088982536,-0.0214630701,-0.0372315012,0.0080564609,0.0360891633,0.0124513172,-0.0278293416,-0.0277224667,0.007043791,0.0355310254,0.0199102685,0.000144026,0.0442709215,-0.0038338429,0.0402117409,-0.0560625754,0.0100583257,-0.0462320149,0.054096356,-0.0025289131,0.027605027,-0.031005688,0.027383212,0.0054742945,-0.0073273261,0.058138974,-0.0438201204,-0.0279196277,-0.0027683633,0.0028532022,-0.0040709665,-0.0487787127,-0.009092357,-0.0157695767,-0.031163441,0.0165245477,-0.0524239838,0.0377877168,-0.0108145718,-0.0029975879,-0.0108305654,0.033419352,-0.0419409685,-0.0173541494,0.0056972145,0.0179058537,-0.0109434454,0.0514491871,0.014726216,-0.0587369055,-0.0247874521,-0.0346753746,0.0148401679,0.0441239327,-0.0017534817,-0.0412158445,0.0113531416,-0.0787081569,-0.0880604908,-0.0294144396,0.0513455831,-0.0352686085,0.0283648092,0.0168210939,0.0323291458,0.0238335188,0.0027907253,-0.0073649357,0.0109360553,-0.0132192448,-0.023096554,0.0093460893,-0.0309635513,0.041812107,-0.0214180946,-0.0225502122,-0.0058874763,-0.03664295,0.0009657646,0.0216725841,0.0059191729,-0.0307287481,0.0441747941,-0.03750889,0.002075938]}\n",
      "{\"id\":2,\"embedding\":[0.0065929429,-0.0164060276,-0.0658088401,0.0191347878,0.020701712,0.0360087305,0.0406804271,0.0131891109,-0.0395475775,-0.01469371,0.0347352959,0.0935374126,-0.0121575836,0.0475727208,0.0138606066,-0.0160819236,0.0414973572,0.02867008,-0.0410044603,0.0100680515,0.0181772336,0.0273317806,-0.0101969056,-0.0151023418,-0.0087668234,0.025714539,0.0842287466,-0.0451464579,0.0229318906,0.0166600775,0.0322163291,-0.0476835072,-0.0179345068,0.0187931508,0.0647917241,0.0139763225,-0.0253080316,-0.0992960036,0.0030986026,-0.0127334017,-0.07128492,0.0738017634,-0.0681861266,-0.0127647333,-0.0571336523,-0.0173111632,-0.0255484432,-0.0576663762,0.0470437407,-0.0112784142,-0.0047688461,-0.0324970968,-0.0211575944,0.0038931565,0.0315515026,-0.0100684203,-0.0218820255,-0.0258945469,0.1036737859,-0.0071771941,-0.0973952636,-0.0067618052,-0.0223844461,-0.0086382087,-0.0061670481,-0.0314958431,-0.0683308691,0.0340231396,-0.0088532595,0.0767575577,-0.0039509772,0.026285667,-0.0332744457,0.0288681965,0.0231264364,-0.0558374971,-0.0286534131,-0.0593533367,-0.0064914599,0.0689192638,-0.0478420481,0.0157715939,0.0710159466,0.0929382816,-0.0166924223,0.0105348025,-0.0020052369,-0.0251545943,-0.0873923451,-0.0276408531,0.0487639084,0.0128815994,-0.0132328607,0.0363432467,0.0383017175,0.004161329,-0.005698184,0.0059456006,0.0325232223,-0.0349061117,0.0689285994,0.0182322673,0.0108120106,0.0234295297,0.0082943803,0.0076387632,-0.0364276618,-0.0196055286,-0.0143314637,0.0326399244,-0.0168180633,-0.0224573109,0.0159562025,0.0302099045,0.0130533157,0.0116576282,0.0371597111,0.0169444028,-0.0386551917,-0.0025787742,0.0138085298,-0.0049244585,-0.0183967128,0.0814715996,0.0200855881,0.0488949344,0.0145804975,-0.0230374262,-0.0065209703,-0.0379242711,0.1261743307,-0.0216461588,-0.0153815048,0.0666455626,0.0112563455,-0.026469646,0.0276278183,-0.0393888019,-0.0168109741,-0.0432582647,-0.023517698,-0.0186069179,0.0423718058,0.0389796048,0.0263063852,-0.0268312823,0.0325363278,0.083469823,0.0098276762,0.0417543612,-0.0494029261,-0.0488448739,0.0030955493,0.0077334414,-0.0061620455,0.0176570695,0.0193473659,-0.0293360911,0.0218057223,-0.0150980633,-0.0061719362,-0.0679716915,0.0075923875,-0.0080489097,-0.0404202342,-0.0400286019,0.0083901519,-0.0545685291,0.0192323327,0.0162981693,0.0387299359,0.0205945466,-0.0105159171,-0.0063894335,-0.0048129619,0.0063509229,0.0210717581,0.0039834897,-0.0288755354,0.0210811868,0.0137499059,0.0287194531,0.0187525135,0.0035556497,-0.0245533418,0.0306486618,-0.0466809757,0.039229691,-0.0071771573,0.0384585522,-0.0005132008,0.0237214044,-0.0245061498,-0.0003370895,-0.0199828707,-0.0470906906,0.0778771788,-0.0403832421,-0.0329236314,0.0005370959,0.0349797718,-0.0556783564,-0.0201035272,-0.0111309094,0.0321825519,-0.0011286952,0.0140247503,-0.0333512127,0.0487989448,-0.0496504419,-0.003061675,-0.0044469489,0.0104654413,-0.0290470403,-0.0214779843,0.0297661982,-0.0024747006,-0.016169738,0.0763961002,0.0163221657,-0.0330731831,-0.0220814142,0.0417590663,0.0545722507,0.0072880457,-0.0661067516,-0.0463163704,0.0139926514,-0.100096181,-0.0683208779,0.0025438408,0.0137401484,-0.086463891,0.0208181385,-0.0224870276,0.0043256194,0.0254097991,0.0085167941,0.0054587955,-0.0221217573,0.0202078,-0.0403571501,0.0514916107,-0.0217674114,0.0470276624,-0.0250142291,-0.00153231,0.0318610817,-0.0816471949,-0.0360025354,-0.0067808558,0.0033719558,-0.023387935,0.0005947441,-0.0177030489,-0.0328541026]}\n",
      "{\"id\":3,\"embedding\":[-0.0109481746,0.0057982816,-0.0432771444,-0.0013617181,-0.0183678363,0.0163910985,0.0395641327,0.0637480766,-0.0202221461,0.0073198308,0.022385003,0.0815734863,-0.0331129953,0.0618963912,0.0282231215,-0.0336644687,0.0498729199,0.011021723,-0.0314331912,-0.0728845298,0.0422247574,0.0067817178,-0.0457621962,-0.0618732683,-0.0104442993,0.0141639486,0.076890178,-0.0823462084,-0.0386680365,-0.0647678077,0.0498154834,0.0032142648,0.0277854297,-0.0027657861,0.0434894003,0.0096547306,0.0011907507,-0.0612686947,0.0410083234,-0.0420831256,-0.0560393706,0.024907995,-0.0630879924,-0.0147154666,-0.0218178742,0.0209576786,-0.0609346665,-0.048291117,0.0190965142,-0.0200312994,0.0107123926,0.0285225715,-0.021639945,-0.0287247933,0.0522681847,-0.0120600257,-0.0564102344,-0.0451784655,0.042534627,-0.0052582882,-0.0891672522,0.000147652,-0.0444616862,-0.0144903818,0.0499360301,-0.0209582914,-0.0409548096,-0.0318497345,0.0361635722,0.0381715074,-0.0065569412,0.0532417782,0.0107701225,-0.0084665027,0.0224886388,-0.0578578897,-0.0149451625,-0.0016804035,-0.0542039126,0.0714903995,-0.0237633083,0.000028437,0.0536652356,0.0770069361,0.0093250889,0.0016308927,0.0379677825,-0.0520679019,-0.0553742126,-0.0418679044,0.0124281589,-0.007264155,0.0147368526,-0.0225309711,0.0679639131,0.0318611413,-0.0031824685,-0.030568663,0.011441323,0.0259507168,0.0553316697,0.0209897682,0.036614988,0.0148293506,0.0065632551,0.0047045904,-0.0118217664,-0.0108929202,-0.0501241572,0.0410909839,-0.0515477657,0.0072432756,0.0248124059,-0.0083223041,0.0304297432,0.0326181464,0.0262794606,0.0519057848,-0.040086817,-0.0689254478,0.0414110757,0.0415689796,-0.0415749326,0.0725064576,0.0033348096,0.054980427,0.0732320696,-0.0066373092,-0.02245236,-0.0768624395,0.0935238451,-0.0026490742,0.00696282,0.0645907223,-0.0857097581,-0.0589841977,-0.0156168006,-0.0564627238,0.005836613,0.0376422741,-0.0107430601,-0.0053322981,0.0060813818,0.024401065,-0.0364807546,-0.0027525441,0.0313020162,0.0296898037,0.0291254427,0.0212653968,-0.0656474903,-0.0141563648,-0.0050122892,0.0284341611,-0.020976685,0.0415744148,0.021163214,0.0043810508,0.0163010042,0.0066404492,-0.0032258919,-0.0414323062,0.0089770304,0.0348085314,-0.0500843637,-0.0536279641,0.0179113522,-0.0285075884,-0.0220385808,0.0178405363,0.0492667109,-0.0348999016,-0.0063319621,-0.0611091107,0.0321628712,0.0149941733,-0.0276295003,0.0503937751,-0.0114473095,0.0011110605,0.0451929681,0.0264867321,-0.0102655934,0.0164871607,-0.006796367,0.0391470939,-0.0342540331,-0.0178349949,-0.0106106568,0.0085672475,0.0683008283,0.0562782027,-0.0453113243,0.0122476714,-0.0236624684,-0.0194116458,0.0942406058,-0.0015094368,-0.0705857575,0.020856671,0.0135978302,0.0308130048,0.0059363199,-0.0048045008,0.0263169017,-0.020309845,-0.0020643631,-0.0040473379,-0.0141073214,-0.0348642878,-0.0155538935,0.0033721831,-0.0056868182,-0.0266917553,-0.0157855265,0.0418365151,-0.0102864569,0.027723968,0.0369997472,0.0163020063,-0.0079389224,0.0056044124,0.0596153922,0.0659003407,0.0267859027,0.0197704546,-0.0190239735,0.006339117,-0.0373294279,-0.0673423856,-0.0047435015,0.0436993428,-0.06009214,0.0023845574,-0.0323860496,0.0663259774,0.0161152072,0.0061561069,0.0111150844,0.0108642904,0.0006946056,-0.0379422568,0.0681081712,-0.0273082647,0.0259651709,-0.0158134419,-0.0251454134,0.0130732181,0.0205428451,-0.0099183172,-0.0021211109,-0.0279211439,-0.013118037,0.0637257695,-0.0158407241,0.0183695722]}\n"
     ]
    }
   ],
   "source": [
    "LOCAL_EMBEDDINGS_PATH = \"./notebooks/data/embeddings.json\"\n",
    "jsonl_string = df[[\"id\", \"embedding\"]].to_json(orient=\"records\", lines=True)\n",
    "with open(LOCAL_EMBEDDINGS_PATH, \"w\") as f:\n",
    "    f.write(jsonl_string)\n",
    "\n",
    "# show the first few lines of the json file\n",
    "! head -n 3 ./notebooks/data/embeddings.json"
   ]
  },
  {
   "cell_type": "code",
   "execution_count": 14,
   "metadata": {},
   "outputs": [
    {
     "name": "stdout",
     "output_type": "stream",
     "text": [
      "Creating gs://sme-malicious-queries/...\n",
      "Copying file://./notebooks/data/embeddings.json [Content-Type=application/json]...\n",
      "/ [1 files][135.0 KiB/135.0 KiB]                                                \n",
      "Operation completed over 1 objects/135.0 KiB.                                    \n"
     ]
    }
   ],
   "source": [
    "EMBEDDINGS_BUCKET_URI = f\"gs://sme-malicious-queries\"\n",
    "! gsutil mb -l $LOCATION -p {PROJECT_ID} {EMBEDDINGS_BUCKET_URI}\n",
    "! gsutil cp ./notebooks/data/embeddings.json {EMBEDDINGS_BUCKET_URI}"
   ]
  },
  {
   "cell_type": "markdown",
   "metadata": {},
   "source": [
    "# Vector Search"
   ]
  },
  {
   "cell_type": "markdown",
   "metadata": {},
   "source": [
    "## Create Index"
   ]
  },
  {
   "cell_type": "code",
   "execution_count": 16,
   "metadata": {},
   "outputs": [
    {
     "name": "stdout",
     "output_type": "stream",
     "text": [
      "Creating MatchingEngineIndex\n",
      "Create MatchingEngineIndex backing LRO: projects/969241382112/locations/us-central1/indexes/6374928835426648064/operations/1645450109091053568\n",
      "MatchingEngineIndex created. Resource name: projects/969241382112/locations/us-central1/indexes/6374928835426648064\n",
      "To use this MatchingEngineIndex in another session:\n",
      "index = aiplatform.MatchingEngineIndex('projects/969241382112/locations/us-central1/indexes/6374928835426648064')\n"
     ]
    }
   ],
   "source": [
    "query_index = aiplatform.MatchingEngineIndex.create_tree_ah_index(\n",
    "    display_name=f\"sme-queries-to-block\",\n",
    "    contents_delta_uri=EMBEDDINGS_BUCKET_URI,\n",
    "    dimensions=256,\n",
    "    approximate_neighbors_count=20,\n",
    "    distance_measure_type=\"DOT_PRODUCT_DISTANCE\",\n",
    ")"
   ]
  },
  {
   "cell_type": "markdown",
   "metadata": {},
   "source": [
    "## Create Endpoint"
   ]
  },
  {
   "cell_type": "code",
   "execution_count": 17,
   "metadata": {},
   "outputs": [
    {
     "name": "stdout",
     "output_type": "stream",
     "text": [
      "Creating MatchingEngineIndexEndpoint\n",
      "Create MatchingEngineIndexEndpoint backing LRO: projects/969241382112/locations/us-central1/indexEndpoints/6596801485818822656/operations/6091628841212575744\n",
      "MatchingEngineIndexEndpoint created. Resource name: projects/969241382112/locations/us-central1/indexEndpoints/6596801485818822656\n",
      "To use this MatchingEngineIndexEndpoint in another session:\n",
      "index_endpoint = aiplatform.MatchingEngineIndexEndpoint('projects/969241382112/locations/us-central1/indexEndpoints/6596801485818822656')\n"
     ]
    }
   ],
   "source": [
    "query_idx_endpoint = aiplatform.MatchingEngineIndexEndpoint.create(\n",
    "    display_name=f\"sme-queries-embeddings-endpoint\",\n",
    "    public_endpoint_enabled=True\n",
    ")"
   ]
  },
  {
   "cell_type": "markdown",
   "metadata": {},
   "source": [
    "## Deploy Endpoint"
   ]
  },
  {
   "cell_type": "code",
   "execution_count": 18,
   "metadata": {},
   "outputs": [
    {
     "name": "stdout",
     "output_type": "stream",
     "text": [
      "Deploying index MatchingEngineIndexEndpoint index_endpoint: projects/969241382112/locations/us-central1/indexEndpoints/6596801485818822656\n",
      "Deploy index MatchingEngineIndexEndpoint index_endpoint backing LRO: projects/969241382112/locations/us-central1/indexEndpoints/6596801485818822656/operations/7789485900731252736\n"
     ]
    }
   ],
   "source": [
    "query_idx_endpoint.deploy_index(index=query_index, deployed_index_id=\"sme_queries\")"
   ]
  },
  {
   "cell_type": "markdown",
   "metadata": {},
   "source": [
    "# Run Sample Query "
   ]
  },
  {
   "cell_type": "code",
   "execution_count": 11,
   "metadata": {},
   "outputs": [],
   "source": [
    "ENDPOINT_ID = \"6596801485818822656\""
   ]
  },
  {
   "cell_type": "code",
   "execution_count": 12,
   "metadata": {},
   "outputs": [],
   "source": [
    "sme_query_endpoint = aiplatform.MatchingEngineIndexEndpoint(ENDPOINT_ID)"
   ]
  },
  {
   "cell_type": "code",
   "execution_count": 22,
   "metadata": {},
   "outputs": [],
   "source": [
    "test_embeddings = embed_text([\"what wines pair well with grilled salmon\"])"
   ]
  },
  {
   "cell_type": "code",
   "execution_count": 23,
   "metadata": {},
   "outputs": [
    {
     "name": "stdout",
     "output_type": "stream",
     "text": [
      "MatchNeighbor(id='8', distance=0.15819087624549866, feature_vector=[], crowding_tag='0', restricts=[], numeric_restricts=[], sparse_embedding_values=[], sparse_embedding_dimensions=[])\n",
      "MatchNeighbor(id='23', distance=0.15232744812965393, feature_vector=[], crowding_tag='0', restricts=[], numeric_restricts=[], sparse_embedding_values=[], sparse_embedding_dimensions=[])\n",
      "MatchNeighbor(id='36', distance=0.15166263282299042, feature_vector=[], crowding_tag='0', restricts=[], numeric_restricts=[], sparse_embedding_values=[], sparse_embedding_dimensions=[])\n",
      "MatchNeighbor(id='16', distance=0.15004907548427582, feature_vector=[], crowding_tag='0', restricts=[], numeric_restricts=[], sparse_embedding_values=[], sparse_embedding_dimensions=[])\n",
      "MatchNeighbor(id='10', distance=0.14968690276145935, feature_vector=[], crowding_tag='0', restricts=[], numeric_restricts=[], sparse_embedding_values=[], sparse_embedding_dimensions=[])\n",
      "MatchNeighbor(id='14', distance=0.1464846432209015, feature_vector=[], crowding_tag='0', restricts=[], numeric_restricts=[], sparse_embedding_values=[], sparse_embedding_dimensions=[])\n",
      "MatchNeighbor(id='7', distance=0.146202951669693, feature_vector=[], crowding_tag='0', restricts=[], numeric_restricts=[], sparse_embedding_values=[], sparse_embedding_dimensions=[])\n",
      "MatchNeighbor(id='18', distance=0.14535342156887054, feature_vector=[], crowding_tag='0', restricts=[], numeric_restricts=[], sparse_embedding_values=[], sparse_embedding_dimensions=[])\n",
      "MatchNeighbor(id='38', distance=0.14417335391044617, feature_vector=[], crowding_tag='0', restricts=[], numeric_restricts=[], sparse_embedding_values=[], sparse_embedding_dimensions=[])\n",
      "MatchNeighbor(id='15', distance=0.1431058794260025, feature_vector=[], crowding_tag='0', restricts=[], numeric_restricts=[], sparse_embedding_values=[], sparse_embedding_dimensions=[])\n",
      "MatchNeighbor(id='21', distance=0.14271046221256256, feature_vector=[], crowding_tag='0', restricts=[], numeric_restricts=[], sparse_embedding_values=[], sparse_embedding_dimensions=[])\n",
      "MatchNeighbor(id='22', distance=0.141728013753891, feature_vector=[], crowding_tag='0', restricts=[], numeric_restricts=[], sparse_embedding_values=[], sparse_embedding_dimensions=[])\n",
      "MatchNeighbor(id='11', distance=0.14135196805000305, feature_vector=[], crowding_tag='0', restricts=[], numeric_restricts=[], sparse_embedding_values=[], sparse_embedding_dimensions=[])\n",
      "MatchNeighbor(id='5', distance=0.13986442983150482, feature_vector=[], crowding_tag='0', restricts=[], numeric_restricts=[], sparse_embedding_values=[], sparse_embedding_dimensions=[])\n",
      "MatchNeighbor(id='27', distance=0.13658744096755981, feature_vector=[], crowding_tag='0', restricts=[], numeric_restricts=[], sparse_embedding_values=[], sparse_embedding_dimensions=[])\n",
      "MatchNeighbor(id='17', distance=0.1361115574836731, feature_vector=[], crowding_tag='0', restricts=[], numeric_restricts=[], sparse_embedding_values=[], sparse_embedding_dimensions=[])\n",
      "MatchNeighbor(id='24', distance=0.13427269458770752, feature_vector=[], crowding_tag='0', restricts=[], numeric_restricts=[], sparse_embedding_values=[], sparse_embedding_dimensions=[])\n",
      "MatchNeighbor(id='39', distance=0.1339595764875412, feature_vector=[], crowding_tag='0', restricts=[], numeric_restricts=[], sparse_embedding_values=[], sparse_embedding_dimensions=[])\n",
      "MatchNeighbor(id='12', distance=0.13319657742977142, feature_vector=[], crowding_tag='0', restricts=[], numeric_restricts=[], sparse_embedding_values=[], sparse_embedding_dimensions=[])\n",
      "MatchNeighbor(id='3', distance=0.1315024048089981, feature_vector=[], crowding_tag='0', restricts=[], numeric_restricts=[], sparse_embedding_values=[], sparse_embedding_dimensions=[])\n"
     ]
    }
   ],
   "source": [
    "# Test query.\n",
    "response = sme_query_endpoint.find_neighbors(\n",
    "    deployed_index_id=\"sme_queries\",\n",
    "    queries=test_embeddings,\n",
    "    num_neighbors=20,\n",
    ")\n",
    "\n",
    "neighbor_ids = []\n",
    "for idx, neighbor in enumerate(response[0]):\n",
    "    print(neighbor)\n",
    "    # print(neighbor.distance)\n",
    "    neighbor_ids.append(int(neighbor.id))"
   ]
  },
  {
   "cell_type": "code",
   "execution_count": null,
   "metadata": {},
   "outputs": [],
   "source": []
  }
 ],
 "metadata": {
  "kernelspec": {
   "display_name": "Python 3",
   "language": "python",
   "name": "python3"
  },
  "language_info": {
   "codemirror_mode": {
    "name": "ipython",
    "version": 3
   },
   "file_extension": ".py",
   "mimetype": "text/x-python",
   "name": "python",
   "nbconvert_exporter": "python",
   "pygments_lexer": "ipython3",
   "version": "3.11.4"
  }
 },
 "nbformat": 4,
 "nbformat_minor": 2
}
